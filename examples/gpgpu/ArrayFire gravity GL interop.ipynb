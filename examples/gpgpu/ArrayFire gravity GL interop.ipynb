{
 "cells": [
  {
   "cell_type": "markdown",
   "metadata": {},
   "source": [
    "OpenGL FireRender/CUDA Interop Code"
   ]
  },
  {
   "cell_type": "code",
   "execution_count": 1,
   "metadata": {
    "collapsed": false
   },
   "outputs": [
    {
     "name": "stderr",
     "output_type": "stream",
     "text": [
      "INFO: Setting GPU Backend\n",
      "\n",
      "WARNING: deprecated syntax \"call(::Type{AFAbstractArray{T,N}}, ...)\".\n",
      "Use \"(::Type{AFAbstractArray{T,N}})(...)\" instead.\n",
      "\n",
      "WARNING: deprecated syntax \"call(::Type{AFAbstractArray{T,N}}, ...)\".\n",
      "Use \"(::Type{AFAbstractArray{T,N}})(...)\" instead.\n",
      "WARNING: New definition \n",
      "    .^(Real, ArrayFire.AFAbstractArray{#T<:Any, N<:Any}) at /home/s/.julia/v0.5/ArrayFire/src/math.jl:15\n",
      "is ambiguous with: \n",
      "    .^(Base.Irrational{:e}, AbstractArray) at irrationals.jl:126.\n",
      "To fix, define \n",
      "    .^(Base.Irrational{:e}, ArrayFire.AFAbstractArray{T<:Any, N<:Any})\n",
      "before the new definition.\n",
      "INFO: Recompiling stale cache file /home/s/.julia/lib/v0.5/CUDArt.ji for module CUDArt.\n",
      "WARNING: New definition \n",
      "    (::Type{#T<:GeometryTypes.AbstractMesh})(GeometryTypes.GeometryPrimitive, Any...) at /home/s/.julia/v0.5/GeometryTypes/src/primitives.jl:14\n",
      "is ambiguous with: \n",
      "    (::Type{GeometryTypes.HomogenousMesh{#VertT<:Any, #FaceT<:Any, #NormalT<:Any, #TexCoordT<:Any, #ColorT<:Any, #AttribT<:Any, #AttribIDT<:Any}})(Any, Any, Any, Any, Any, Any, Any) at /home/s/.julia/v0.5/GeometryTypes/src/types.jl:146.\n",
      "To fix, define \n",
      "    (::Type{GeometryTypes.HomogenousMesh{#VertT<:Any, #FaceT<:Any, #NormalT<:Any, #TexCoordT<:Any, #ColorT<:Any, #AttribT<:Any, #AttribIDT<:Any}})(GeometryTypes.GeometryPrimitive, Any, Any, Any, Any, Any, Any)\n",
      "before the new definition.\n",
      "WARNING: New definition \n",
      "    size(GeometryTypes.SignedDistanceField, Any...) at /home/s/.julia/v0.5/GeometryTypes/src/distancefields.jl:2\n",
      "is ambiguous with: \n",
      "    size(Any, Integer, Integer, Integer...) at abstractarray.jl:23.\n",
      "To fix, define \n",
      "    size(GeometryTypes.SignedDistanceField, Integer, Integer, Integer...)\n",
      "before the new definition.\n"
     ]
    }
   ],
   "source": [
    "ENV[\"PATH\"]=\"/usr/local/cuda-7.5/bin:\"*ENV[\"PATH\"]\n",
    "ENV[\"LD_LIBRARY_PATH\"]=\"/usr/local/cuda-7.5/lib64:/usr/local/cuda/nvvm/lib64:\"*get(ENV,\"LD_LIBRARY_PATH\",\"\")\n",
    "ENV[\"AFMODE\"] = \"CUDA\"  # this example works with CUDA\n",
    "using ArrayFire, CUDArt, GLAbstraction, Cxx, ModernGL\n",
    "\n",
    "\n",
    "type CUDAGLBuffer{T} <: GLAbstraction.GPUArray{T, 1}\n",
    "    buffer::GLBuffer{T}\n",
    "    graphics_resource::Ref{CUDArt.rt.cudaGraphicsResource_t}\n",
    "    ismapped::Bool\n",
    "end\n",
    "\n",
    "function CUDAGLBuffer(buffer::GLBuffer, flag = 0)\n",
    "    cuda_resource = Ref{CUDArt.rt.cudaGraphicsResource_t}(C_NULL)\n",
    "    CUDArt.rt.cudaGraphicsGLRegisterBuffer(cuda_resource, buffer.id, flag)\n",
    "    CUDAGLBuffer(buffer, cuda_resource, false)\n",
    "end\n",
    "function map_resource(buffer::CUDAGLBuffer)\n",
    "    if !buffer.ismapped\n",
    "        CUDArt.rt.cudaGraphicsMapResources(1, buffer.graphics_resource, C_NULL)\n",
    "        buffer.ismapped = true;\n",
    "    end\n",
    "    nothing\n",
    "end\n",
    "\n",
    "function unmap_resource(buffer::CUDAGLBuffer)\n",
    "    if buffer.ismapped\n",
    "        CUDArt.rt.cudaGraphicsUnmapResources(1, buffer.graphics_resource, C_NULL)\n",
    "        buffer.ismapped = false\n",
    "    end\n",
    "    nothing\n",
    "end\n",
    "\n",
    "function copy_from_device_pointer{T}(\n",
    "        cuda_mem_ptr::Ptr{T},\n",
    "        cuda_gl_buffer::CUDAGLBuffer,\n",
    "    )\n",
    "    map_resource(cuda_gl_buffer)\n",
    "    buffersize = length(cuda_gl_buffer.buffer)*sizeof(eltype(cuda_gl_buffer.buffer))\n",
    "    if cuda_gl_buffer.buffer.buffertype == GL_RENDERBUFFER\n",
    "        array_ptr = Ref{CUDArt.rt.cudaArray_t}(C_NULL)\n",
    "        CUDArt.rt.cudaGraphicsSubResourceGetMappedArray(array_ptr, cuda_gl_buffer.graphics_resource[], 0, 0)\n",
    "        CUDArt.rt.cudaMemcpyToArray(array_ptr[], 0, 0, cuda_mem_ptr, buffersize, CUDArt.rt.cudaMemcpyDeviceToDevice)\n",
    "    else\n",
    "        opengl_ptr = Ref{Ptr{Void}}(C_NULL); size_ref = Ref{Csize_t}(buffersize)\n",
    "        CUDArt.rt.cudaGraphicsResourceGetMappedPointer(opengl_ptr, size_ref, cuda_gl_buffer.graphics_resource[])\n",
    "        CUDArt.rt.cudaMemcpy(opengl_ptr[], cuda_mem_ptr, buffersize, CUDArt.rt.cudaMemcpyDeviceToDevice)\n",
    "    end\n",
    "    unmap_resource(cuda_gl_buffer)\n",
    "end\n",
    "\n",
    "\"\"\"\n",
    " Gets the device pointer from the mapped resource\n",
    " Sets is_mapped to true\n",
    "\"\"\"\n",
    "function copy_to_device_pointer{T}(\n",
    "        cuda_mem_ptr::Ptr{T},\n",
    "        cuda_gl_buffer::CUDAGLBuffer,\n",
    "    )\n",
    "    map_resource(cuda_gl_buffer)\n",
    "    is_mapped = true\n",
    "    buffersize = length(cuda_gl_buffer.buffer)*sizeof(eltype(cuda_gl_buffer.buffer))\n",
    "    if cuda_gl_buffer.buffer.buffertype == GL_RENDERBUFFER\n",
    "        array_ptr = Ref{CUDArt.rt.cudaArray_t}(C_NULL);\n",
    "        CUDArt.rt.cudaGraphicsSubResourceGetMappedArray(array_ptr, cuda_gl_buffer.graphics_resource[], 0, 0)\n",
    "        CUDArt.rt.cudaMemcpyFromArray(cuda_mem_ptr, array_ptr[], 0, 0, buffersize, CUDArt.rt.cudaMemcpyDeviceToDevice)\n",
    "    else\n",
    "        opengl_ptr = Ref{Ptr{Void}}(C_NULL); size_ref = Ref{Csize_t}(buffersize)\n",
    "        CUDArt.rt.cudaGraphicsResourceGetMappedPointer(opengl_ptr, size_ref, cuda_gl_buffer.graphics_resource[])\n",
    "        CUDArt.rt.cudaMemcpy(cuda_mem_ptr, opengl_ptr, buffersize, CUDArt.rt.cudaMemcpyDeviceToDevice)\n",
    "    end\n",
    "    unmap_resource(cuda_gl_buffer)\n",
    "end\n",
    "\n",
    "# ArrayFire.AFArray\n",
    "function Base.copy(source::ArrayFire.AFArray, target::CUDAGLBuffer)\n",
    "    d_ptr = ArrayFire.af_device(source)\n",
    "    copy_from_device_pointer(d_ptr, target)\n",
    "end\n",
    "function Base.copy(source::CUDAGLBuffer, target::ArrayFire.AFArray)\n",
    "    d_ptr = ArrayFire.af_device(target)\n",
    "    copy_to_device_pointer(d_ptr, target)\n",
    "end"
   ]
  },
  {
   "cell_type": "markdown",
   "metadata": {},
   "source": [
    "GLVisualize Setup"
   ]
  },
  {
   "cell_type": "code",
   "execution_count": 2,
   "metadata": {
    "collapsed": false
   },
   "outputs": [
    {
     "name": "stderr",
     "output_type": "stream",
     "text": [
      "WARNING: New definition \n",
      "    map(Images.MapNone{#T<:Any}, AbstractArray{#T<:Any, N<:Any}) at /home/s/.julia/v0.5/Images/src/map.jl:73\n",
      "is ambiguous with: \n",
      "    map(Any, Base.SharedArray) at sharedarray.jl:442.\n",
      "To fix, define \n",
      "    map(Images.MapNone{#T<:Any}, Base.SharedArray{#T<:Any, N<:Any})\n",
      "before the new definition.\n",
      "WARNING: New definition \n",
      "    map(Images.MapInfo{#T<:Any}, AbstractArray) at /home/s/.julia/v0.5/Images/src/map.jl:456\n",
      "is ambiguous with: \n",
      "    map(Any, Base.SharedArray) at sharedarray.jl:442.\n",
      "To fix, define \n",
      "    map(Images.MapInfo{#T<:Any}, Base.SharedArray)\n",
      "before the new definition.\n",
      "WARNING: New definition \n",
      "    map(Images.MapNone{#T<:Any}, Union{ColorTypes.Colorant, Number}) at /home/s/.julia/v0.5/Images/src/map.jl:66\n",
      "is ambiguous with: \n",
      "    map(Any, Number, Number...) at number.jl:54.\n",
      "To fix, define \n",
      "    map(Images.MapNone{#T<:Any}, Number)\n",
      "before the new definition.\n",
      "WARNING: New definition \n",
      "    map(Images.ScaleMinMax{#To<:Union{ColorTypes.Color{T<:Any, 1}, Real}, #From<:Union{ColorTypes.Color{T<:Any, 1}, Real}, S<:AbstractFloat}, #From<:Union{ColorTypes.Color{T<:Any, 1}, Real}) at /home/s/.julia/v0.5/Images/src/map.jl:248\n",
      "is ambiguous with: \n",
      "    map(Any, Number, Number...) at number.jl:54.\n",
      "To fix, define \n",
      "    map(Images.ScaleMinMax{#To<:Union{ColorTypes.Color{T<:Any, 1}, Real}, _<:Real, S<:AbstractFloat}, _<:Real)\n",
      "before the new definition.\n",
      "WARNING: New definition \n",
      "    slice(Images.AbstractImage, Union{T<:Real, Base.Colon, AbstractArray{T<:Real, N<:Any}}...) at /home/s/.julia/v0.5/Images/src/core.jl:478\n",
      "is ambiguous with: \n",
      "    slice(AbstractArray, Union{Base.Colon, Real, AbstractArray{T<:Any, 1}}...) at subarray.jl:81.\n",
      "To fix, define \n",
      "    slice(Images.AbstractImage, Union{Base.Colon, Real, AbstractArray{T<:Real, 1}}...)\n",
      "before the new definition.\n",
      "WARNING: New definition \n",
      "    sub(Images.AbstractImage, Union{T<:Real, Base.Colon, AbstractArray{T<:Real, N<:Any}}...) at /home/s/.julia/v0.5/Images/src/core.jl:473\n",
      "is ambiguous with: \n",
      "    sub(AbstractArray, Union{Base.Colon, Real, AbstractArray{T<:Any, 1}}...) at subarray.jl:93.\n",
      "To fix, define \n",
      "    sub(Images.AbstractImage, Union{Base.Colon, Real, AbstractArray{T<:Real, 1}}...)\n",
      "before the new definition.\n"
     ]
    }
   ],
   "source": [
    "using GLVisualize, GeometryTypes, Colors\n",
    "w=glscreen()\n",
    "nothing"
   ]
  },
  {
   "cell_type": "markdown",
   "metadata": {},
   "source": [
    "Simulation"
   ]
  },
  {
   "cell_type": "code",
   "execution_count": 4,
   "metadata": {
    "collapsed": false
   },
   "outputs": [
    {
     "name": "stderr",
     "output_type": "stream",
     "text": [
      "WARNING: Method definition simulate(Any, Any, Any, Any) in module Main at In[3]:5 overwritten at In[4]:5.\n",
      "WARNING: Method definition afmax(Any, Any) in module Main at In[3]:40 overwritten at In[4]:40.\n",
      "WARNING: Method definition afmin(Any, Any) in module Main at In[3]:41 overwritten at In[4]:41.\n",
      "WARNING: Method definition collisions(Any, Any) in module Main at In[3]:47 overwritten at In[4]:47.\n"
     ]
    },
    {
     "data": {
      "text/plain": [
       "collisions (generic function with 1 method)"
      ]
     },
     "execution_count": 4,
     "metadata": {},
     "output_type": "execute_result"
    }
   ],
   "source": [
    "\n",
    "width = 5f0; height = 5f0;\n",
    "\n",
    "function simulate(pos, vels, forces, dt)\n",
    "    pos[1] += vels[1] * dt\n",
    "    pos[2] += vels[2] * dt    \n",
    "    pos[3] += vels[3] * dt\n",
    "\n",
    "\n",
    "    #calculate distance to center\n",
    "    diff_x = pos[1] - width/2\n",
    "    diff_y = pos[2] - height/2\n",
    "    diff_z = pos[3] - height/2\n",
    "\n",
    "    dist = sqrt( diff_x.*diff_x + diff_y.*diff_y  + diff_z.*diff_z)\n",
    "\n",
    "    #calculate normalised force vectors\n",
    "    forces[1] = -1 * diff_x ./ dist;\n",
    "    forces[2] = -1 * diff_y ./ dist;    \n",
    "    forces[3] = -1 * diff_z ./ dist;\n",
    "\n",
    "    #update force scaled to time and magnitude constant\n",
    "    forces[1] *= dt\n",
    "    forces[2] *= dt    \n",
    "    forces[3] *= dt\n",
    "\n",
    "\n",
    "    #dampening\n",
    "    vels[1] *= 1 - (0.0005*dt);\n",
    "    vels[2] *= 1 - (0.0005*dt);    \n",
    "    vels[3] *= 1 - (0.0005*dt);\n",
    "\n",
    "\n",
    "    #update velocities from forces\n",
    "    vels[1] = vels[1] .+ forces[1];\n",
    "    vels[2] = vels[2] .+ forces[2];    \n",
    "    vels[3] = vels[3] .+ forces[3];\n",
    "\n",
    "end\n",
    "afmax(a,b) = AFArray{Float32}(ArrayFire.af_max(a, b))\n",
    "afmin(a,b) = AFArray{Float32}(ArrayFire.af_min(a, b))\n",
    "\n",
    "\n",
    "\n",
    "function collisions(pos, vels)\n",
    "    #clamp particles inside screen border\n",
    "    projected_px = afmin(width, afmax(0, pos[1]))\n",
    "    projected_py = afmin(height - 1, afmax(0, pos[2]))    \n",
    "    projected_pz = afmin(height - 1, afmax(0, pos[3]))\n",
    "\n",
    "\n",
    "    #calculate distance to center\n",
    "    diff_x = projected_px - width/2\n",
    "    diff_y = projected_py - height/2    \n",
    "    diff_z = projected_pz - height/2\n",
    "\n",
    "    dist = sqrt( diff_x.*diff_x + diff_y.*diff_y  + diff_z.*diff_z)\n",
    "\n",
    "    #collide with center sphere\n",
    "    radius = 0.01;\n",
    "    elastic_constant = 0.91f0\n",
    "    dr = dist.<radius\n",
    "    s = icxx\"af::sum<int>($dr);\"\n",
    "    if s > 0\n",
    "        vels[1][dr] = -elastic_constant * vels[1][dr]\n",
    "        vels[2][dr] = -elastic_constant * vels[2][dr]        \n",
    "        vels[3][dr] = -elastic_constant * vels[3][dr]\n",
    "\n",
    "\n",
    "        #normalize diff vector\n",
    "        diff_x = diff_x ./ dist\n",
    "        diff_y = diff_y ./ dist        \n",
    "        diff_z = diff_z ./ dist\n",
    "\n",
    "        #place all particle colliding with sphere on surface\n",
    "        pos[1][dr] = width/2 + diff_x[dr] * radius\n",
    "        pos[2][dr] = height/2 +  diff_y[dr] * radius        \n",
    "        pos[3][dr] = height/2 +  diff_z[dr] * radius\n",
    "\n",
    "    end\n",
    "end\n"
   ]
  },
  {
   "cell_type": "markdown",
   "metadata": {},
   "source": [
    "Interactive Part"
   ]
  },
  {
   "cell_type": "code",
   "execution_count": 5,
   "metadata": {
    "collapsed": false
   },
   "outputs": [],
   "source": [
    "total_particles = 1000;\n",
    "\n",
    "# Initialize the kernel array just once\n",
    "# Generate a random starting state\n",
    "pos = Any[\n",
    "    rand(AFArray{Float32}, total_particles) * width,\n",
    "    rand(AFArray{Float32}, total_particles) * height,        \n",
    "    rand(AFArray{Float32}, total_particles) * height,\n",
    "\n",
    "]\n",
    "\n",
    "vels = Any[\n",
    "    randn(AFArray{Float32}, total_particles),\n",
    "    randn(AFArray{Float32}, total_particles),        \n",
    "    randn(AFArray{Float32}, total_particles),\n",
    "]\n",
    "\n",
    "forces = Any[\n",
    "    randn(AFArray{Float32}, total_particles),\n",
    "    randn(AFArray{Float32}, total_particles),        \n",
    "    randn(AFArray{Float32}, total_particles),\n",
    "]\n",
    "j_pos = ntuple(3) do i\n",
    "    Array(pos[i])\n",
    "end\n",
    "intensity = sqrt(forces[1].*forces[1] + forces[2].*forces[2]  + forces[3].*forces[3])\n",
    "nothing"
   ]
  },
  {
   "cell_type": "code",
   "execution_count": 6,
   "metadata": {
    "collapsed": false
   },
   "outputs": [
    {
     "name": "stderr",
     "output_type": "stream",
     "text": [
      "In file included from :1:\n",
      "\u001b[1m:2:13: \u001b[0m\u001b[0;1;31merror: \u001b[0m\u001b[1mno member named 'ndims' in '(anonymous class)'\u001b[0m\n",
      "__juliavar1.ndims();\n",
      "\u001b[0;1;32m~~~~~~~~~~~ ^\n",
      "\u001b[0m\u001b[1m:2:13: \u001b[0m\u001b[0;1;31merror: \u001b[0m\u001b[1mno member named 'ndims' in '(anonymous class)'\u001b[0m\n",
      "__juliavar1.ndims();\n",
      "\u001b[0;1;32m~~~~~~~~~~~ ^\n",
      "\u001b[0m"
     ]
    }
   ],
   "source": [
    "i_julia = Array(intensity)\n",
    "view(visualize(\n",
    "    (Sphere(Point2f0(0), 0.01f0), j_pos), \n",
    "    billboard=true,\n",
    "    color=nothing,\n",
    "    intensity=i_julia,\n",
    "    color_norm = Vec2f0(0, 0.2),\n",
    "    color_map = map(RGBA{Float32}, colormap(\"RdBu\", 20)),\n",
    "    model = translationmatrix(-Vec3f0(2.5))\n",
    "), w, camera=:perspective)\n",
    "nothing"
   ]
  },
  {
   "cell_type": "code",
   "execution_count": 7,
   "metadata": {
    "collapsed": false
   },
   "outputs": [],
   "source": [
    "GLWindow.render_frame(w)\n",
    "gpu = w.renderlist[1][1]\n",
    "gpu_pos = gpu[:position_x], gpu[:position_y], gpu[:position_z]\n",
    "gpu_cu_pos = map(gpu_pos) do buff\n",
    "    CUDAGLBuffer(buff)\n",
    "end\n",
    "intensity_cu = CUDAGLBuffer(gpu[:intensity])\n",
    "nothing"
   ]
  },
  {
   "cell_type": "code",
   "execution_count": 24,
   "metadata": {
    "collapsed": false
   },
   "outputs": [
    {
     "data": {
      "text/plain": [
       "Vec(0.0,0.2)"
      ]
     },
     "execution_count": 24,
     "metadata": {},
     "output_type": "execute_result"
    }
   ],
   "source": [
    "gpu[:color_norm] = Vec2f0(0,0.2)"
   ]
  },
  {
   "cell_type": "code",
   "execution_count": 9,
   "metadata": {
    "collapsed": false
   },
   "outputs": [],
   "source": [
    "tic();\n",
    "for i=1:1000\n",
    "    dt = toq();tic()\n",
    "\n",
    "    #check for collisions and adjust positions/velocities accordingly\n",
    "    collisions(pos, vels);\n",
    "\n",
    "    #run force simulation and update particles\n",
    "    simulate(pos, vels, forces, dt)\n",
    "    \n",
    "    # make device to device copy\n",
    "    map(zip(gpu_cu_pos, pos)) do gcu_af\n",
    "        gcu, af = gcu_af\n",
    "        copy(af, gcu)\n",
    "    end\n",
    "    GLWindow.render_frame(w)\n",
    "    GLWindow.pollevents()\n",
    "end\n"
   ]
  }
 ],
 "metadata": {
  "kernelspec": {
   "display_name": "Julia 0.5.0-dev",
   "language": "julia",
   "name": "julia-0.5"
  },
  "language_info": {
   "file_extension": ".jl",
   "mimetype": "application/julia",
   "name": "julia",
   "version": "0.5.0"
  }
 },
 "nbformat": 4,
 "nbformat_minor": 0
}
